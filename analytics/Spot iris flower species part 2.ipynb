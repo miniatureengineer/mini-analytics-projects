{
 "cells": [
  {
   "cell_type": "markdown",
   "metadata": {},
   "source": [
    "Note: SVM predicted ones and the actuals display all 9 ones, while logistic regression predicted 10 ones , but display 8 ones actuals (correct) and 2 twos actuals (incorrect)."
   ]
  },
  {
   "cell_type": "markdown",
   "metadata": {},
   "source": [
    "#### Logistic Regression"
   ]
  },
  {
   "cell_type": "code",
   "execution_count": 4,
   "metadata": {},
   "outputs": [],
   "source": [
    "#import libraries\n",
    "import pandas as pd\n",
    "import numpy as np\n",
    "import matplotlib.pyplot as plt\n",
    "from sklearn.linear_model import LogisticRegression\n",
    "from sklearn.model_selection import train_test_split\n",
    "from sklearn import metrics"
   ]
  },
  {
   "cell_type": "code",
   "execution_count": 5,
   "metadata": {},
   "outputs": [],
   "source": [
    "#step1: load data\n",
    "from sklearn import datasets\n",
    "iris = datasets.load_iris()\n",
    "iris_df = pd.DataFrame(iris.data, columns=iris.feature_names) #inputs(4 input columns)\n",
    "iris_target = iris.target"
   ]
  },
  {
   "cell_type": "code",
   "execution_count": 6,
   "metadata": {},
   "outputs": [
    {
     "name": "stdout",
     "output_type": "stream",
     "text": [
      "Testing Accuracy =  0.9666666666666667\n"
     ]
    }
   ],
   "source": [
    "#train_test_split\n",
    "X_train, X_test, y_train, y_test = train_test_split(iris_df, iris_target, test_size=0.2)\n",
    "log_reg = LogisticRegression(max_iter=1000)\n",
    "log_reg.fit(X_train, y_train)\n",
    "y_pred = log_reg.predict(X_test)\n",
    "test_acc = metrics.accuracy_score(y_test, y_pred)\n",
    "print(\"Testing Accuracy = \", test_acc)\n",
    "# Confusion Matrix\n",
    "conf_mat = metrics.confusion_matrix(y_test, y_pred)"
   ]
  },
  {
   "cell_type": "code",
   "execution_count": 7,
   "metadata": {},
   "outputs": [
    {
     "data": {
      "image/png": "[encoded data removed]",
      "text/plain": [
       "<Figure size 432x288 with 2 Axes>"
      ]
     },
     "metadata": {
      "needs_background": "light"
     },
     "output_type": "display_data"
    },
    {
     "name": "stdout",
     "output_type": "stream",
     "text": [
      "Testing Precision =  [1.    1.    0.875]\n",
      "Testing Recall =  [1.         0.92857143 1.        ]\n"
     ]
    }
   ],
   "source": [
    "import seaborn as sns \n",
    "#visualization library\n",
    "sns.heatmap(conf_mat.T, annot=True) #annot=True is used to show the numbers in the confusion matrix\n",
    "plt.xlabel(\"Actuals\")\n",
    "plt.ylabel(\"Predicted\")\n",
    "plt.show()\n",
    "\n",
    "#precision\n",
    "test_pre = metrics.precision_score(y_test, y_pred, average=None)\n",
    "print(\"Testing Precision = \", test_pre)\n",
    "#recall \n",
    "test_rec = metrics.recall_score(y_test, y_pred, average=None)\n",
    "print(\"Testing Recall = \", test_rec)"
   ]
  },
  {
   "cell_type": "markdown",
   "metadata": {},
   "source": [
    "#### SVM"
   ]
  },
  {
   "cell_type": "code",
   "execution_count": 8,
   "metadata": {},
   "outputs": [],
   "source": [
    "#import libraries\n",
    "import pandas as pd\n",
    "import numpy as np\n",
    "import matplotlib.pyplot as plt\n",
    "from sklearn.model_selection import train_test_split\n",
    "from sklearn import metrics"
   ]
  },
  {
   "cell_type": "code",
   "execution_count": 9,
   "metadata": {},
   "outputs": [],
   "source": [
    "#load data\n",
    "from sklearn import datasets\n",
    "iris = datasets.load_iris()\n",
    "iris_df = pd.DataFrame(iris.data, columns=iris.feature_names) #inputs(4 input columns)\n",
    "iris_target = iris.target"
   ]
  },
  {
   "cell_type": "code",
   "execution_count": 10,
   "metadata": {},
   "outputs": [],
   "source": [
    "#divide data into train and test\n",
    "X_train, X_test, y_train, y_test = train_test_split(iris_df, iris_target, test_size=0.2)"
   ]
  },
  {
   "cell_type": "code",
   "execution_count": 11,
   "metadata": {},
   "outputs": [
    {
     "data": {
      "text/plain": [
       "SVC()"
      ]
     },
     "execution_count": 11,
     "metadata": {},
     "output_type": "execute_result"
    }
   ],
   "source": [
    "from sklearn import svm\n",
    "svm_classifier = svm.SVC() #model svc\n",
    "svm_classifier.fit(X_train, y_train) #fit it"
   ]
  },
  {
   "cell_type": "code",
   "execution_count": 12,
   "metadata": {},
   "outputs": [
    {
     "name": "stdout",
     "output_type": "stream",
     "text": [
      "Testing Accuracy =  1.0\n"
     ]
    }
   ],
   "source": [
    "y_pred = svm_classifier.predict(X_test)\n",
    "test_acc = metrics.accuracy_score(y_test, y_pred)\n",
    "print(\"Testing Accuracy = \", test_acc)\n",
    "# Confusion Matrix\n",
    "conf_mat = metrics.confusion_matrix(y_test, y_pred)"
   ]
  },
  {
   "cell_type": "code",
   "execution_count": 13,
   "metadata": {},
   "outputs": [
    {
     "data": {
      "image/png": "[encoded data removed]",
      "text/plain": [
       "<Figure size 432x288 with 2 Axes>"
      ]
     },
     "metadata": {
      "needs_background": "light"
     },
     "output_type": "display_data"
    },
    {
     "name": "stdout",
     "output_type": "stream",
     "text": [
      "Testing Precision =  [1. 1. 1.]\n",
      "Testing Recall =  [1. 1. 1.]\n"
     ]
    }
   ],
   "source": [
    "import seaborn as sns \n",
    "#visualization library\n",
    "sns.heatmap(conf_mat.T, annot=True) #annot=True is used to show the numbers in the confusion matrix\n",
    "plt.xlabel(\"Actuals\")\n",
    "plt.ylabel(\"Predicted\")\n",
    "plt.show()\n",
    "# Precision\n",
    "test_pre = metrics.precision_score(y_test, y_pred, average=None)\n",
    "print(\"Testing Precision = \", test_pre)\n",
    "#Recall \n",
    "test_rec = metrics.recall_score(y_test, y_pred, average=None)\n",
    "print(\"Testing Recall = \", test_rec)"
   ]
  },
  {
   "cell_type": "code",
   "execution_count": 14,
   "metadata": {},
   "outputs": [
    {
     "name": "stdout",
     "output_type": "stream",
     "text": [
      "Testing Precision =  [1. 1. 1.]\n",
      "Testing Recall =  [1. 1. 1.]\n"
     ]
    }
   ],
   "source": [
    "test_pre = metrics.precision_score(y_test, y_pred, average=None)\n",
    "print(\"Testing Precision = \", test_pre)\n",
    "\n",
    "test_rec = metrics.recall_score(y_test, y_pred, average=None)\n",
    "print(\"Testing Recall = \", test_rec)"
   ]
  },
  {
   "cell_type": "markdown",
   "metadata": {},
   "source": [
    "#### Determine which is the best model based on learned metrics, you can use accuracy as a metric.\n",
    "- SVM is the best model \n",
    "- SVM has higher accuracy of 1.0 as compare to logistic regression only 0.966."
   ]
  },
  {
   "cell_type": "code",
   "execution_count": null,
   "metadata": {},
   "outputs": [],
   "source": []
  },
  {
   "cell_type": "code",
   "execution_count": null,
   "metadata": {},
   "outputs": [],
   "source": []
  },
  {
   "cell_type": "code",
   "execution_count": null,
   "metadata": {},
   "outputs": [],
   "source": []
  },
  {
   "cell_type": "code",
   "execution_count": null,
   "metadata": {},
   "outputs": [],
   "source": []
  },
  {
   "cell_type": "code",
   "execution_count": null,
   "metadata": {},
   "outputs": [],
   "source": []
  }
 ],
 "metadata": {
  "kernelspec": {
   "display_name": "Python 3",
   "language": "python",
   "name": "python3"
  },
  "language_info": {
   "codemirror_mode": {
    "name": "ipython",
    "version": 3
   },
   "file_extension": ".py",
   "mimetype": "text/x-python",
   "name": "python",
   "nbconvert_exporter": "python",
   "pygments_lexer": "ipython3",
   "version": "3.8.3"
  }
 },
 "nbformat": 4,
 "nbformat_minor": 4
}
